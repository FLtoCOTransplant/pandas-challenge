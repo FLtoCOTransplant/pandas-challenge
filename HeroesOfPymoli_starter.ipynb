{
 "cells": [
  {
   "cell_type": "markdown",
   "metadata": {},
   "source": [
    "### Note\n",
    "* Instructions have been included for each segment. You do not have to follow them exactly, but they are included to help you think through the steps."
   ]
  },
  {
   "cell_type": "code",
   "execution_count": 74,
   "metadata": {},
   "outputs": [
    {
     "data": {
      "text/html": [
       "<div>\n",
       "<style scoped>\n",
       "    .dataframe tbody tr th:only-of-type {\n",
       "        vertical-align: middle;\n",
       "    }\n",
       "\n",
       "    .dataframe tbody tr th {\n",
       "        vertical-align: top;\n",
       "    }\n",
       "\n",
       "    .dataframe thead th {\n",
       "        text-align: right;\n",
       "    }\n",
       "</style>\n",
       "<table border=\"1\" class=\"dataframe\">\n",
       "  <thead>\n",
       "    <tr style=\"text-align: right;\">\n",
       "      <th></th>\n",
       "      <th>Purchase ID</th>\n",
       "      <th>SN</th>\n",
       "      <th>Age</th>\n",
       "      <th>Gender</th>\n",
       "      <th>Item ID</th>\n",
       "      <th>Item Name</th>\n",
       "      <th>Price</th>\n",
       "    </tr>\n",
       "  </thead>\n",
       "  <tbody>\n",
       "    <tr>\n",
       "      <th>0</th>\n",
       "      <td>0</td>\n",
       "      <td>Lisim78</td>\n",
       "      <td>20</td>\n",
       "      <td>Male</td>\n",
       "      <td>108</td>\n",
       "      <td>Extraction, Quickblade Of Trembling Hands</td>\n",
       "      <td>3.53</td>\n",
       "    </tr>\n",
       "    <tr>\n",
       "      <th>1</th>\n",
       "      <td>1</td>\n",
       "      <td>Lisovynya38</td>\n",
       "      <td>40</td>\n",
       "      <td>Male</td>\n",
       "      <td>143</td>\n",
       "      <td>Frenzied Scimitar</td>\n",
       "      <td>1.56</td>\n",
       "    </tr>\n",
       "    <tr>\n",
       "      <th>2</th>\n",
       "      <td>2</td>\n",
       "      <td>Ithergue48</td>\n",
       "      <td>24</td>\n",
       "      <td>Male</td>\n",
       "      <td>92</td>\n",
       "      <td>Final Critic</td>\n",
       "      <td>4.88</td>\n",
       "    </tr>\n",
       "    <tr>\n",
       "      <th>3</th>\n",
       "      <td>3</td>\n",
       "      <td>Chamassasya86</td>\n",
       "      <td>24</td>\n",
       "      <td>Male</td>\n",
       "      <td>100</td>\n",
       "      <td>Blindscythe</td>\n",
       "      <td>3.27</td>\n",
       "    </tr>\n",
       "    <tr>\n",
       "      <th>4</th>\n",
       "      <td>4</td>\n",
       "      <td>Iskosia90</td>\n",
       "      <td>23</td>\n",
       "      <td>Male</td>\n",
       "      <td>131</td>\n",
       "      <td>Fury</td>\n",
       "      <td>1.44</td>\n",
       "    </tr>\n",
       "  </tbody>\n",
       "</table>\n",
       "</div>"
      ],
      "text/plain": [
       "   Purchase ID             SN  Age Gender  Item ID  \\\n",
       "0            0        Lisim78   20   Male      108   \n",
       "1            1    Lisovynya38   40   Male      143   \n",
       "2            2     Ithergue48   24   Male       92   \n",
       "3            3  Chamassasya86   24   Male      100   \n",
       "4            4      Iskosia90   23   Male      131   \n",
       "\n",
       "                                   Item Name  Price  \n",
       "0  Extraction, Quickblade Of Trembling Hands   3.53  \n",
       "1                          Frenzied Scimitar   1.56  \n",
       "2                               Final Critic   4.88  \n",
       "3                                Blindscythe   3.27  \n",
       "4                                       Fury   1.44  "
      ]
     },
     "execution_count": 74,
     "metadata": {},
     "output_type": "execute_result"
    }
   ],
   "source": [
    "# Dependencies and Setup\n",
    "import pandas as pd\n",
    "import numpy as np\n",
    "\n",
    "# File to Load (Remember to Change These)\n",
    "file_to_load = \"Resources/purchase_data.csv\"\n",
    "\n",
    "# Read Purchasing File and store into Pandas data frame\n",
    "purchase_data = pd.read_csv(file_to_load)\n",
    "purchase_data.head()"
   ]
  },
  {
   "cell_type": "markdown",
   "metadata": {},
   "source": [
    "## Player Count"
   ]
  },
  {
   "cell_type": "markdown",
   "metadata": {},
   "source": [
    "* Display the total number of players\n"
   ]
  },
  {
   "cell_type": "code",
   "execution_count": 84,
   "metadata": {},
   "outputs": [
    {
     "data": {
      "text/plain": [
       "576"
      ]
     },
     "execution_count": 84,
     "metadata": {},
     "output_type": "execute_result"
    }
   ],
   "source": [
    "#players_t = purchase_data.SN.nunique()\n",
    "#players_t\n",
    "# Display the total number of players\n",
    "player_demographics = purchase_data.loc[:, [\"Gender\", \"SN\", \"Age\"]]\n",
    "player_demographics = player_demographics.drop_duplicates()\n",
    "num_players = player_demographics.count()[0]\n",
    "num_players"
   ]
  },
  {
   "cell_type": "markdown",
   "metadata": {},
   "source": [
    "## Purchasing Analysis (Total)"
   ]
  },
  {
   "cell_type": "markdown",
   "metadata": {},
   "source": [
    "* Run basic calculations to obtain number of unique items, average price, etc.\n",
    "\n",
    "\n",
    "* Create a summary data frame to hold the results\n",
    "\n",
    "\n",
    "* Optional: give the displayed data cleaner formatting\n",
    "\n",
    "\n",
    "* Display the summary data frame\n"
   ]
  },
  {
   "cell_type": "code",
   "execution_count": 81,
   "metadata": {
    "scrolled": true
   },
   "outputs": [
    {
     "data": {
      "text/html": [
       "<div>\n",
       "<style scoped>\n",
       "    .dataframe tbody tr th:only-of-type {\n",
       "        vertical-align: middle;\n",
       "    }\n",
       "\n",
       "    .dataframe tbody tr th {\n",
       "        vertical-align: top;\n",
       "    }\n",
       "\n",
       "    .dataframe thead th {\n",
       "        text-align: right;\n",
       "    }\n",
       "</style>\n",
       "<table border=\"1\" class=\"dataframe\">\n",
       "  <thead>\n",
       "    <tr style=\"text-align: right;\">\n",
       "      <th></th>\n",
       "      <th># of Unique Items</th>\n",
       "      <th>Price (Ave)</th>\n",
       "      <th># of Transactions</th>\n",
       "      <th>Total Sales</th>\n",
       "    </tr>\n",
       "  </thead>\n",
       "  <tbody>\n",
       "    <tr>\n",
       "      <th>0</th>\n",
       "      <td>179</td>\n",
       "      <td>3.05</td>\n",
       "      <td>780</td>\n",
       "      <td>$2,379.77</td>\n",
       "    </tr>\n",
       "  </tbody>\n",
       "</table>\n",
       "</div>"
      ],
      "text/plain": [
       "   # of Unique Items  Price (Ave)  # of Transactions Total Sales\n",
       "0                179         3.05                780   $2,379.77"
      ]
     },
     "execution_count": 81,
     "metadata": {},
     "output_type": "execute_result"
    }
   ],
   "source": [
    "#Create table variables\n",
    "\n",
    "#How many unique items are there?\n",
    "u_items = len(purchase_data[\"Item ID\"].unique())\n",
    "u_items\n",
    "\n",
    "#How many transactions were there?\n",
    "n_trans = purchase_data[\"Purchase ID\"].count()\n",
    "n_trans\n",
    "\n",
    "#What was the total value of the transactions\n",
    "t_trans = purchase_data[\"Price\"].sum()\n",
    "t_trans = \"${:,.2f}\".format(t_trans)\n",
    "\n",
    "#Determine the average price\n",
    "ave_price = purchase_data[\"Price\"].mean()\n",
    "ave_price\n",
    "\n",
    "#Create dataframe\n",
    "Purchasing_Analysis_Total = pd.DataFrame({\"# of Unique Items\": [u_items],\n",
    "                                         \"Price (Ave)\":[ave_price],\n",
    "                                         \"# of Transactions\":[n_trans],\n",
    "                                         \"Total Sales\":[t_trans]})\n",
    "\n",
    "output = Purchasing_Analysis_Total.round(2)\n",
    "output"
   ]
  },
  {
   "cell_type": "markdown",
   "metadata": {},
   "source": [
    "## Gender Demographics"
   ]
  },
  {
   "cell_type": "markdown",
   "metadata": {},
   "source": [
    "* Percentage and Count of Male Players\n",
    "\n",
    "\n",
    "* Percentage and Count of Female Players\n",
    "\n",
    "\n",
    "* Percentage and Count of Other / Non-Disclosed\n",
    "\n",
    "\n"
   ]
  },
  {
   "cell_type": "code",
   "execution_count": 95,
   "metadata": {},
   "outputs": [
    {
     "data": {
      "text/html": [
       "<div>\n",
       "<style scoped>\n",
       "    .dataframe tbody tr th:only-of-type {\n",
       "        vertical-align: middle;\n",
       "    }\n",
       "\n",
       "    .dataframe tbody tr th {\n",
       "        vertical-align: top;\n",
       "    }\n",
       "\n",
       "    .dataframe thead th {\n",
       "        text-align: right;\n",
       "    }\n",
       "</style>\n",
       "<table border=\"1\" class=\"dataframe\">\n",
       "  <thead>\n",
       "    <tr style=\"text-align: right;\">\n",
       "      <th></th>\n",
       "      <th>gender_df</th>\n",
       "      <th>gender_perc</th>\n",
       "    </tr>\n",
       "  </thead>\n",
       "  <tbody>\n",
       "    <tr>\n",
       "      <th>Male</th>\n",
       "      <td>484</td>\n",
       "      <td>84.0</td>\n",
       "    </tr>\n",
       "    <tr>\n",
       "      <th>Female</th>\n",
       "      <td>81</td>\n",
       "      <td>14.1</td>\n",
       "    </tr>\n",
       "    <tr>\n",
       "      <th>Other / Non-Disclosed</th>\n",
       "      <td>11</td>\n",
       "      <td>1.9</td>\n",
       "    </tr>\n",
       "  </tbody>\n",
       "</table>\n",
       "</div>"
      ],
      "text/plain": [
       "                       gender_df  gender_perc\n",
       "Male                         484         84.0\n",
       "Female                        81         14.1\n",
       "Other / Non-Disclosed         11          1.9"
      ]
     },
     "execution_count": 95,
     "metadata": {},
     "output_type": "execute_result"
    }
   ],
   "source": [
    "# Who is playing this game? \n",
    "# Already counted totals in[9] \"players_t\"\n",
    "gender_df = player_demographics[\"Gender\"].value_counts()\n",
    "gender_df\n",
    "\n",
    "# Determine the percent for each gender\n",
    "gender_per = (gender_df/num_players)*100\n",
    "gender_perc = gender_per.round(1)\n",
    "gender_perc\n",
    "\n",
    "# New dataframe\n",
    "gender_sum = pd.DataFrame({\"gender_df\":gender_df,\"gender_perc\":gender_perc})\n",
    "gender_sum\n",
    "\n",
    "#Add the percent of each gender into the gender df\n",
    "#gender_df[\"Percent Players\"] = gender_perc\n",
    "#gender_df[\"Percent Players\"] = gender_df[\"Percent Players\"].map(\"{:,.1f}%\".format)\n",
    "#gender_df\n",
    "\n",
    "# Rename the Gender column\n",
    "#gender_df = gender_df.rename({\"Gender\":\"Players by Gender\"})#gender_df\n",
    "#gender_df"
   ]
  },
  {
   "cell_type": "markdown",
   "metadata": {},
   "source": [
    "\n",
    "## Purchasing Analysis (Gender)"
   ]
  },
  {
   "cell_type": "markdown",
   "metadata": {},
   "source": [
    "* Run basic calculations to obtain purchase count, avg. purchase price, avg. purchase total per person etc. by gender\n",
    "\n",
    "\n",
    "\n",
    "\n",
    "* Create a summary data frame to hold the results\n",
    "\n",
    "\n",
    "* Optional: give the displayed data cleaner formatting\n",
    "\n",
    "\n",
    "* Display the summary data frame"
   ]
  },
  {
   "cell_type": "code",
   "execution_count": 100,
   "metadata": {},
   "outputs": [
    {
     "data": {
      "text/html": [
       "<div>\n",
       "<style scoped>\n",
       "    .dataframe tbody tr th:only-of-type {\n",
       "        vertical-align: middle;\n",
       "    }\n",
       "\n",
       "    .dataframe tbody tr th {\n",
       "        vertical-align: top;\n",
       "    }\n",
       "\n",
       "    .dataframe thead th {\n",
       "        text-align: right;\n",
       "    }\n",
       "</style>\n",
       "<table border=\"1\" class=\"dataframe\">\n",
       "  <thead>\n",
       "    <tr style=\"text-align: right;\">\n",
       "      <th></th>\n",
       "      <th>Purchase Count</th>\n",
       "      <th>Purchase Price (Ave)</th>\n",
       "      <th>Total Purchases by Gender</th>\n",
       "      <th>Normalized Total Purchase</th>\n",
       "    </tr>\n",
       "    <tr>\n",
       "      <th>Gender</th>\n",
       "      <th></th>\n",
       "      <th></th>\n",
       "      <th></th>\n",
       "      <th></th>\n",
       "    </tr>\n",
       "  </thead>\n",
       "  <tbody>\n",
       "    <tr>\n",
       "      <th>Female</th>\n",
       "      <td>113.00%</td>\n",
       "      <td>3.203009</td>\n",
       "      <td>361.94</td>\n",
       "      <td>4.468395</td>\n",
       "    </tr>\n",
       "    <tr>\n",
       "      <th>Male</th>\n",
       "      <td>652.00%</td>\n",
       "      <td>3.017853</td>\n",
       "      <td>1967.64</td>\n",
       "      <td>4.065372</td>\n",
       "    </tr>\n",
       "    <tr>\n",
       "      <th>Other / Non-Disclosed</th>\n",
       "      <td>15.00%</td>\n",
       "      <td>3.346000</td>\n",
       "      <td>50.19</td>\n",
       "      <td>4.562727</td>\n",
       "    </tr>\n",
       "  </tbody>\n",
       "</table>\n",
       "</div>"
      ],
      "text/plain": [
       "                      Purchase Count  Purchase Price (Ave)  \\\n",
       "Gender                                                       \n",
       "Female                       113.00%              3.203009   \n",
       "Male                         652.00%              3.017853   \n",
       "Other / Non-Disclosed         15.00%              3.346000   \n",
       "\n",
       "                       Total Purchases by Gender  Normalized Total Purchase  \n",
       "Gender                                                                       \n",
       "Female                                    361.94                   4.468395  \n",
       "Male                                     1967.64                   4.065372  \n",
       "Other / Non-Disclosed                      50.19                   4.562727  "
      ]
     },
     "execution_count": 100,
     "metadata": {},
     "output_type": "execute_result"
    }
   ],
   "source": [
    "# Create a df to capture data by gender\n",
    "gender_analysis_df = purchase_data.groupby([\"Gender\"])\n",
    "\n",
    "# Determine the number of purchases by gender\n",
    "purch_count = gender_analysis_df[\"Gender\"].count()\n",
    "purch_count\n",
    "\n",
    "# Total purchase by gender\n",
    "t_purch = gender_analysis_df[\"Price\"].sum()\n",
    "t_purch\n",
    "\n",
    "# Ave purchase price by gender\n",
    "ave_purch = t_purch/purch_count\n",
    "\n",
    "# Normalize data\n",
    "purch_norm = gender_analysis_df[\"SN\"].nunique()\n",
    "purch_gender_norm = t_purch/purch_norm\n",
    "\n",
    "# Print df\n",
    "gender_org_df = pd.DataFrame({\"Purchase Count\": purch_count,\n",
    "                            \"Purchase Price (Ave)\":ave_purch,\n",
    "                            \"Total Purchases by Gender\":t_purch,\n",
    "                            \"Normalized Total Purchase\":purch_gender_norm})\n",
    "\n",
    "gender_org_df[\"Purchase Count\"] = gender_org_df[\"Purchase Count\"].map(\"{:,.2f}%\".format)\n",
    "\n",
    "gender_org_df\n"
   ]
  },
  {
   "cell_type": "markdown",
   "metadata": {},
   "source": [
    "## Age Demographics"
   ]
  },
  {
   "cell_type": "markdown",
   "metadata": {},
   "source": [
    "* Establish bins for ages\n",
    "\n",
    "\n",
    "* Categorize the existing players using the age bins. Hint: use pd.cut()\n",
    "\n",
    "\n",
    "* Calculate the numbers and percentages by age group\n",
    "\n",
    "\n",
    "* Create a summary data frame to hold the results\n",
    "\n",
    "\n",
    "* Optional: round the percentage column to two decimal points\n",
    "\n",
    "\n",
    "* Display Age Demographics Table\n"
   ]
  },
  {
   "cell_type": "code",
   "execution_count": 107,
   "metadata": {},
   "outputs": [
    {
     "name": "stdout",
     "output_type": "stream",
     "text": [
      "     Gender             SN  Age Player Age Demographics\n",
      "0      Male        Lisim78   20                   20-24\n",
      "1      Male    Lisovynya38   40                     40+\n",
      "2      Male     Ithergue48   24                   20-24\n",
      "3      Male  Chamassasya86   24                   20-24\n",
      "4      Male      Iskosia90   23                   20-24\n",
      "..      ...            ...  ...                     ...\n",
      "773    Male         Hala31   21                   20-24\n",
      "774    Male     Jiskjask80   11                   10-14\n",
      "775  Female     Aethedru70   21                   20-24\n",
      "777    Male     Yathecal72   20                   20-24\n",
      "778    Male        Sisur91    7                     <10\n",
      "\n",
      "[576 rows x 4 columns]\n"
     ]
    },
    {
     "data": {
      "text/plain": [
       "20-24    44.791667\n",
       "15-19    18.576389\n",
       "25-29    13.368056\n",
       "30-34     9.027778\n",
       "35-39     5.381944\n",
       "10-14     3.819444\n",
       "<10       2.951389\n",
       "40+       2.083333\n",
       "Name: Player Age Demographics, dtype: float64"
      ]
     },
     "execution_count": 107,
     "metadata": {},
     "output_type": "execute_result"
    }
   ],
   "source": [
    "# Establish bins for ages\n",
    "#age_bins = [0, 11.90, 18.90, 22.90, 26.90, 30.90, 39.90, 99999]\n",
    "#group_names = [\"<12\", \"12-18\", \"19-22\", \"22-26\", \"27-30\", \"31-40\", \"40+\"]\n",
    "age_bins = [0, 9.90, 14.90, 19.90, 24.90, 29.90, 34.90, 39.90, 99999]\n",
    "group_names = [\"<10\", \"10-14\", \"15-19\", \"20-24\", \"25-29\", \"30-34\", \"35-39\", \"40+\"]\n",
    "print(player_demographics)\n",
    "#database for age Demo\n",
    "player_demographics[\"Player Age Demographics\"]= pd.cut(player_demographics[\"Age\"], age_bins, labels=group_names)\n",
    "#demographic_group =player_demographics.groupby(\"Player Age Demographics\")\n",
    "\n",
    "# Determine the total count in each age group\n",
    "age_df = player_demographics[\"Player Age Demographics\"].value_counts()\n",
    "age_df\n",
    "\n",
    "# Determine the percent of each age group\n",
    "age_perc = (age_df/num_players)*100\n",
    "age_perc\n",
    "\n",
    "#Add the percent of each age group into the age df\n",
    "#age_df[\"Percent of Total Players\"] = age_perc\n",
    "#age_df[\"Percent of Total Players\"] = age_df[\"Percent of Total Players\"].map(\"{:,.2f}%\".format)\n",
    "#age_df\n",
    "\n",
    "# Rename the age group column\n",
    "#age_df = age_df.rename(columns={\"Player Age Demographics\":\"Total Players by each age group\"})\n",
    "#age_df"
   ]
  },
  {
   "cell_type": "markdown",
   "metadata": {},
   "source": [
    "## Purchasing Analysis (Age)"
   ]
  },
  {
   "cell_type": "markdown",
   "metadata": {},
   "source": [
    "* Bin the purchase_data data frame by age\n",
    "\n",
    "\n",
    "* Run basic calculations to obtain purchase count, avg. purchase price, avg. purchase total per person etc. in the table below\n",
    "\n",
    "\n",
    "* Create a summary data frame to hold the results\n",
    "\n",
    "\n",
    "* Optional: give the displayed data cleaner formatting\n",
    "\n",
    "\n",
    "* Display the summary data frame"
   ]
  },
  {
   "cell_type": "code",
   "execution_count": 118,
   "metadata": {},
   "outputs": [
    {
     "data": {
      "text/plain": [
       "Purchase Analysis by Age\n",
       "<10      3.353478\n",
       "10-14    2.956429\n",
       "15-19    3.035956\n",
       "20-24    3.052219\n",
       "25-29    2.900990\n",
       "30-34    2.931507\n",
       "35-39    3.601707\n",
       "40+      2.941538\n",
       "Name: Price, dtype: float64"
      ]
     },
     "execution_count": 118,
     "metadata": {},
     "output_type": "execute_result"
    }
   ],
   "source": [
    "#create new df\n",
    "purchase_data[\"Purchase Analysis by Age\"]= pd.cut(purchase_data[\"Age\"], age_bins, labels=group_names)\n",
    "\n",
    "# total purchases by age group\n",
    "age_group_df = purchase_data.groupby([\"Purchase Analysis by Age\"]).sum()[\"Price\"]\n",
    "age_group_df\n",
    "\n",
    "# total price paid per group\n",
    "age_group_tot_price = purchase_data.groupby([\"Purchase Analysis by Age\"]).mean()[\"Price\"]\n",
    "age_group_tot_price\n",
    "\n",
    "\n",
    "\n",
    "# Ave price paid per item\n",
    "#age_group_ave_price = age_group_tot_price/age_group_df\n",
    "#age_group_ave_price = demographic_group[\"Price\"].mean()\n",
    "#age_group_ave_price = age_group_ave_price.round(2)\n",
    "#age_group_ave_price\n",
    "\n",
    "# Ave spend per player\n",
    "#age_group_players = demographic_group[\"SN\"].nunique()\n",
    "#age_group_players\n",
    "#age_group_player_spend = age_group_tot_price/age_group_players\n",
    "#age_group_player_spend\n",
    "\n",
    "#Print Age df\n",
    "#age_group_df[\"Purchase Count\"] = age_group_df\n",
    "#age_group_df[\"Total Purchases\"] = age_group_tot_price\n",
    "#age_group_df[\"Purchase Price per Item (Ave)\"] = age_group_ave_price\n",
    "#age_group_df[\"Average Spend per Player\"] = age_group_player_spend\n",
    "#age_group_df"
   ]
  },
  {
   "cell_type": "markdown",
   "metadata": {},
   "source": [
    "## Top Spenders"
   ]
  },
  {
   "cell_type": "markdown",
   "metadata": {},
   "source": [
    "* Run basic calculations to obtain the results in the table below\n",
    "\n",
    "\n",
    "* Create a summary data frame to hold the results\n",
    "\n",
    "\n",
    "* Sort the total purchase value column in descending order\n",
    "\n",
    "\n",
    "* Optional: give the displayed data cleaner formatting\n",
    "\n",
    "\n",
    "* Display a preview of the summary data frame\n",
    "\n"
   ]
  },
  {
   "cell_type": "code",
   "execution_count": 122,
   "metadata": {},
   "outputs": [
    {
     "data": {
      "text/plain": [
       "SN\n",
       "Adairialis76     2.28\n",
       "Adastirin33      4.48\n",
       "Aeda94           4.91\n",
       "Aela59           4.32\n",
       "Aelaria33        1.79\n",
       "                 ... \n",
       "Yathecal82       6.22\n",
       "Yathedeu43       6.02\n",
       "Yoishirrala98    4.58\n",
       "Zhisrisu83       7.89\n",
       "Zontibe81        8.03\n",
       "Name: Total Spend, Length: 576, dtype: float64"
      ]
     },
     "execution_count": 122,
     "metadata": {},
     "output_type": "execute_result"
    }
   ],
   "source": [
    "# Create a df to determine the top spender\n",
    "top_spender_df = purchase_data.groupby(\"SN\").sum()[\"Price\"].rename(\"Total Spend\")\n",
    "top_spender_df\n",
    "\n",
    "# How much did each player spend?\n",
    "#t_player_spend = top_spender_df[\"Price\"].sum()\n",
    "#t_player_spend = t_player_spend.map(\"${:,.2f}\".format)\n",
    "#t_player_spend\n",
    "\n",
    "# Average purchase price per user\n",
    "#ave_pur_player = top_spender_df[\"Price\"].mean()\n",
    "#ave_pur_player_f = ave_pur_player.map(\"${:,.2f}\".format)\n",
    "#ave_pur_player_f\n",
    "\n",
    "#Print top spenders df\n",
    "#top_spender_df[\"Total Spend\"] = t_player_spend\n",
    "#top_spender_df[\"Ave Spend per Item\"] = ave_pur_player_f\n",
    "#age_group_df[\"Purchase Price per Item (Ave)\"] = age_group_ave_price\n",
    "#age_group_df[\"Average Spend per Player\"] = age_group_player_spend\n",
    "#top_spender_df.head()\n",
    "\n",
    "#Create new data frome\n",
    "\n",
    "\n",
    "# Need to orgainze and have total purchasing be descending\n",
    "#top_spender_df_d = top_spender_df_d.sort_values(\"Total Spend\",ascending=False)\n",
    "#top_spender_df_d"
   ]
  },
  {
   "cell_type": "markdown",
   "metadata": {},
   "source": [
    "## Most Popular Items"
   ]
  },
  {
   "cell_type": "markdown",
   "metadata": {},
   "source": [
    "* Retrieve the Item ID, Item Name, and Item Price columns\n",
    "\n",
    "\n",
    "* Group by Item ID and Item Name. Perform calculations to obtain purchase count, average item price, and total purchase value\n",
    "\n",
    "\n",
    "* Create a summary data frame to hold the results\n",
    "\n",
    "\n",
    "* Sort the purchase count column in descending order\n",
    "\n",
    "\n",
    "* Optional: give the displayed data cleaner formatting\n",
    "\n",
    "\n",
    "* Display a preview of the summary data frame\n",
    "\n"
   ]
  },
  {
   "cell_type": "code",
   "execution_count": 73,
   "metadata": {},
   "outputs": [
    {
     "ename": "TypeError",
     "evalue": "'DataFrameGroupBy' object does not support item assignment",
     "output_type": "error",
     "traceback": [
      "\u001b[1;31m---------------------------------------------------------------------------\u001b[0m",
      "\u001b[1;31mTypeError\u001b[0m                                 Traceback (most recent call last)",
      "\u001b[1;32m<ipython-input-73-0b81f1dea18c>\u001b[0m in \u001b[0;36m<module>\u001b[1;34m\u001b[0m\n\u001b[0;32m     13\u001b[0m \u001b[1;33m\u001b[0m\u001b[0m\n\u001b[0;32m     14\u001b[0m \u001b[1;31m# create df to output\u001b[0m\u001b[1;33m\u001b[0m\u001b[1;33m\u001b[0m\u001b[1;33m\u001b[0m\u001b[0m\n\u001b[1;32m---> 15\u001b[1;33m \u001b[0mmost_freq_df\u001b[0m\u001b[1;33m[\u001b[0m\u001b[1;34m\"Item Price\"\u001b[0m\u001b[1;33m]\u001b[0m \u001b[1;33m=\u001b[0m \u001b[0mprice_item\u001b[0m\u001b[1;33m\u001b[0m\u001b[1;33m\u001b[0m\u001b[0m\n\u001b[0m\u001b[0;32m     16\u001b[0m \u001b[0mmost_freq_df\u001b[0m\u001b[1;33m[\u001b[0m\u001b[1;34m\"Total Spent for Item\"\u001b[0m\u001b[1;33m]\u001b[0m \u001b[1;33m=\u001b[0m \u001b[0mt_price_item\u001b[0m\u001b[1;33m\u001b[0m\u001b[1;33m\u001b[0m\u001b[0m\n\u001b[0;32m     17\u001b[0m \u001b[0mmost_freq_df\u001b[0m\u001b[1;33m\u001b[0m\u001b[1;33m\u001b[0m\u001b[0m\n",
      "\u001b[1;31mTypeError\u001b[0m: 'DataFrameGroupBy' object does not support item assignment"
     ]
    }
   ],
   "source": [
    "# what items sold most frequently\n",
    "most_freq_df = purchase_data.groupby(['Item ID', 'Item Name'])\n",
    "most_freq_df.count()\n",
    "\n",
    "# Average item price is equal to item price\n",
    "price_item = most_freq_df[\"Price\"].mean()\n",
    "price_item\n",
    "\n",
    "# df is now organized by item- total price\n",
    "t_price_item = most_freq_df[\"Price\"].sum()\n",
    "t_price_item = t_price_item.map(\"${:,.2f}\".format)\n",
    "t_price_item\n",
    "\n",
    "# create df to output\n",
    "most_freq_df[\"Item Price\"] = price_item\n",
    "most_freq_df[\"Total Spent for Item\"] = t_price_item\n",
    "most_freq_df\n",
    "\n"
   ]
  },
  {
   "cell_type": "markdown",
   "metadata": {},
   "source": [
    "## Most Profitable Items"
   ]
  },
  {
   "cell_type": "markdown",
   "metadata": {},
   "source": [
    "* Sort the above table by total purchase value in descending order\n",
    "\n",
    "\n",
    "* Optional: give the displayed data cleaner formatting\n",
    "\n",
    "\n",
    "* Display a preview of the data frame\n",
    "\n"
   ]
  },
  {
   "cell_type": "code",
   "execution_count": null,
   "metadata": {
    "scrolled": true
   },
   "outputs": [],
   "source": []
  }
 ],
 "metadata": {
  "anaconda-cloud": {},
  "kernel_info": {
   "name": "python3"
  },
  "kernelspec": {
   "display_name": "Python [conda env:Anaconda3]",
   "language": "python",
   "name": "conda-env-Anaconda3-py"
  },
  "language_info": {
   "codemirror_mode": {
    "name": "ipython",
    "version": 3
   },
   "file_extension": ".py",
   "mimetype": "text/x-python",
   "name": "python",
   "nbconvert_exporter": "python",
   "pygments_lexer": "ipython3",
   "version": "3.8.3"
  },
  "latex_envs": {
   "LaTeX_envs_menu_present": true,
   "autoclose": false,
   "autocomplete": true,
   "bibliofile": "biblio.bib",
   "cite_by": "apalike",
   "current_citInitial": 1,
   "eqLabelWithNumbers": true,
   "eqNumInitial": 1,
   "hotkeys": {
    "equation": "Ctrl-E",
    "itemize": "Ctrl-I"
   },
   "labels_anchors": false,
   "latex_user_defs": false,
   "report_style_numbering": false,
   "user_envs_cfg": false
  },
  "nteract": {
   "version": "0.2.0"
  }
 },
 "nbformat": 4,
 "nbformat_minor": 2
}
